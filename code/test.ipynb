{
 "cells": [
  {
   "cell_type": "code",
   "execution_count": 12,
   "id": "818d483e",
   "metadata": {},
   "outputs": [],
   "source": [
    "import Utils"
   ]
  },
  {
   "cell_type": "code",
   "execution_count": 13,
   "id": "1f711097",
   "metadata": {},
   "outputs": [],
   "source": [
    "prediction=[0,1,1,1,1,1]\n",
    "test_labels=[0,0,1,1,1,0]"
   ]
  },
  {
   "cell_type": "code",
   "execution_count": 14,
   "id": "7c0584c3",
   "metadata": {},
   "outputs": [
    {
     "data": {
      "text/plain": [
       "[3, 1, 2, 0]"
      ]
     },
     "execution_count": 14,
     "metadata": {},
     "output_type": "execute_result"
    }
   ],
   "source": [
    "Utils.getConfusion(test_labels, prediction)"
   ]
  },
  {
   "cell_type": "code",
   "execution_count": 15,
   "id": "71cc86a1",
   "metadata": {},
   "outputs": [
    {
     "name": "stdout",
     "output_type": "stream",
     "text": [
      "3 1 2 0\n"
     ]
    },
    {
     "data": {
      "text/plain": [
       "[1.0, 0.6666666666666666]"
      ]
     },
     "execution_count": 15,
     "metadata": {},
     "output_type": "execute_result"
    }
   ],
   "source": [
    "Utils.getTprAndFpr(test_labels, prediction)"
   ]
  },
  {
   "cell_type": "code",
   "execution_count": 16,
   "id": "cbb6941b",
   "metadata": {},
   "outputs": [
    {
     "ename": "AttributeError",
     "evalue": "module 'Utils' has no attribute 'getClfEvaluation'",
     "output_type": "error",
     "traceback": [
      "\u001b[0;31m---------------------------------------------------------------------------\u001b[0m",
      "\u001b[0;31mAttributeError\u001b[0m                            Traceback (most recent call last)",
      "Cell \u001b[0;32mIn [16], line 1\u001b[0m\n\u001b[0;32m----> 1\u001b[0m Utils\u001b[38;5;241m.\u001b[39mgetClfEvaluation(test_labels, prediction)\n",
      "\u001b[0;31mAttributeError\u001b[0m: module 'Utils' has no attribute 'getClfEvaluation'"
     ]
    }
   ],
   "source": [
    "Utils.getClfEvaluation(test_labels, prediction)"
   ]
  },
  {
   "cell_type": "code",
   "execution_count": null,
   "id": "0c9d7fe3",
   "metadata": {},
   "outputs": [],
   "source": []
  }
 ],
 "metadata": {
  "kernelspec": {
   "display_name": "Python 3 (ipykernel)",
   "language": "python",
   "name": "python3"
  },
  "language_info": {
   "codemirror_mode": {
    "name": "ipython",
    "version": 3
   },
   "file_extension": ".py",
   "mimetype": "text/x-python",
   "name": "python",
   "nbconvert_exporter": "python",
   "pygments_lexer": "ipython3",
   "version": "3.8.15"
  }
 },
 "nbformat": 4,
 "nbformat_minor": 5
}
